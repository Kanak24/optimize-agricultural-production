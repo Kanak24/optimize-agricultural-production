{
 "cells": [
  {
   "cell_type": "code",
   "execution_count": 1,
   "metadata": {},
   "outputs": [],
   "source": [
    "#for manipulation\n",
    "import numpy as np\n",
    "import pandas as pd\n",
    "#for data visualization\n",
    "import seaborn as sns\n",
    "import matplotlib.pyplot as plt\n",
    "#for interactivity\n",
    "from ipywidgets import interact\n"
   ]
  },
  {
   "cell_type": "code",
   "execution_count": 2,
   "metadata": {},
   "outputs": [],
   "source": [
    "#read the dataset\n",
    "data=pd.read_csv('data.csv')"
   ]
  },
  {
   "cell_type": "code",
   "execution_count": 3,
   "metadata": {},
   "outputs": [
    {
     "name": "stdout",
     "output_type": "stream",
     "text": [
      "Shape of the dataset: (2200, 8)\n"
     ]
    }
   ],
   "source": [
    "#checking dataset shape of dataset\n",
    "print(\"Shape of the dataset:\",data.shape)"
   ]
  },
  {
   "cell_type": "code",
   "execution_count": 4,
   "metadata": {},
   "outputs": [
    {
     "data": {
      "text/html": [
       "<div>\n",
       "<style scoped>\n",
       "    .dataframe tbody tr th:only-of-type {\n",
       "        vertical-align: middle;\n",
       "    }\n",
       "\n",
       "    .dataframe tbody tr th {\n",
       "        vertical-align: top;\n",
       "    }\n",
       "\n",
       "    .dataframe thead th {\n",
       "        text-align: right;\n",
       "    }\n",
       "</style>\n",
       "<table border=\"1\" class=\"dataframe\">\n",
       "  <thead>\n",
       "    <tr style=\"text-align: right;\">\n",
       "      <th></th>\n",
       "      <th>N</th>\n",
       "      <th>P</th>\n",
       "      <th>K</th>\n",
       "      <th>temperature</th>\n",
       "      <th>humidity</th>\n",
       "      <th>ph</th>\n",
       "      <th>rainfall</th>\n",
       "      <th>label</th>\n",
       "    </tr>\n",
       "  </thead>\n",
       "  <tbody>\n",
       "    <tr>\n",
       "      <th>0</th>\n",
       "      <td>90</td>\n",
       "      <td>42</td>\n",
       "      <td>43</td>\n",
       "      <td>20.879744</td>\n",
       "      <td>82.002744</td>\n",
       "      <td>6.502985</td>\n",
       "      <td>202.935536</td>\n",
       "      <td>rice</td>\n",
       "    </tr>\n",
       "    <tr>\n",
       "      <th>1</th>\n",
       "      <td>85</td>\n",
       "      <td>58</td>\n",
       "      <td>41</td>\n",
       "      <td>21.770462</td>\n",
       "      <td>80.319644</td>\n",
       "      <td>7.038096</td>\n",
       "      <td>226.655537</td>\n",
       "      <td>rice</td>\n",
       "    </tr>\n",
       "    <tr>\n",
       "      <th>2</th>\n",
       "      <td>60</td>\n",
       "      <td>55</td>\n",
       "      <td>44</td>\n",
       "      <td>23.004459</td>\n",
       "      <td>82.320763</td>\n",
       "      <td>7.840207</td>\n",
       "      <td>263.964248</td>\n",
       "      <td>rice</td>\n",
       "    </tr>\n",
       "    <tr>\n",
       "      <th>3</th>\n",
       "      <td>74</td>\n",
       "      <td>35</td>\n",
       "      <td>40</td>\n",
       "      <td>26.491096</td>\n",
       "      <td>80.158363</td>\n",
       "      <td>6.980401</td>\n",
       "      <td>242.864034</td>\n",
       "      <td>rice</td>\n",
       "    </tr>\n",
       "    <tr>\n",
       "      <th>4</th>\n",
       "      <td>78</td>\n",
       "      <td>42</td>\n",
       "      <td>42</td>\n",
       "      <td>20.130175</td>\n",
       "      <td>81.604873</td>\n",
       "      <td>7.628473</td>\n",
       "      <td>262.717340</td>\n",
       "      <td>rice</td>\n",
       "    </tr>\n",
       "  </tbody>\n",
       "</table>\n",
       "</div>"
      ],
      "text/plain": [
       "    N   P   K  temperature   humidity        ph    rainfall label\n",
       "0  90  42  43    20.879744  82.002744  6.502985  202.935536  rice\n",
       "1  85  58  41    21.770462  80.319644  7.038096  226.655537  rice\n",
       "2  60  55  44    23.004459  82.320763  7.840207  263.964248  rice\n",
       "3  74  35  40    26.491096  80.158363  6.980401  242.864034  rice\n",
       "4  78  42  42    20.130175  81.604873  7.628473  262.717340  rice"
      ]
     },
     "execution_count": 4,
     "metadata": {},
     "output_type": "execute_result"
    }
   ],
   "source": [
    "#checking the head of dataset\n",
    "data.head()"
   ]
  },
  {
   "cell_type": "code",
   "execution_count": 5,
   "metadata": {},
   "outputs": [
    {
     "data": {
      "text/plain": [
       "N              0\n",
       "P              0\n",
       "K              0\n",
       "temperature    0\n",
       "humidity       0\n",
       "ph             0\n",
       "rainfall       0\n",
       "label          0\n",
       "dtype: int64"
      ]
     },
     "execution_count": 5,
     "metadata": {},
     "output_type": "execute_result"
    }
   ],
   "source": [
    "#checking missing values present in the dataset\n",
    "data.isnull().sum()"
   ]
  },
  {
   "cell_type": "code",
   "execution_count": 6,
   "metadata": {},
   "outputs": [
    {
     "data": {
      "text/plain": [
       "kidneybeans    100\n",
       "banana         100\n",
       "blackgram      100\n",
       "coffee         100\n",
       "grapes         100\n",
       "lentil         100\n",
       "watermelon     100\n",
       "mungbean       100\n",
       "rice           100\n",
       "jute           100\n",
       "coconut        100\n",
       "maize          100\n",
       "chickpea       100\n",
       "orange         100\n",
       "mango          100\n",
       "cotton         100\n",
       "pomegranate    100\n",
       "papaya         100\n",
       "apple          100\n",
       "muskmelon      100\n",
       "pigeonpeas     100\n",
       "mothbeans      100\n",
       "Name: label, dtype: int64"
      ]
     },
     "execution_count": 6,
     "metadata": {},
     "output_type": "execute_result"
    }
   ],
   "source": [
    "#lets check how many crops are present in dataset\n",
    "data['label'].value_counts()"
   ]
  },
  {
   "cell_type": "code",
   "execution_count": 7,
   "metadata": {},
   "outputs": [
    {
     "name": "stdout",
     "output_type": "stream",
     "text": [
      "average ratio of nitrogen in soil:50.55\n",
      "average ratio in phosphorus in soil:53.36\n",
      "average ratio of potassium in soil:48.15\n",
      "average tempreture in celsius:25.62\n",
      "average relative humidity in %:71.48\n",
      "average ph value of the soil:6.47\n",
      "average rainfall in mm:103.46\n"
     ]
    }
   ],
   "source": [
    "#checking the summary for all the crops\n",
    "print(\"average ratio of nitrogen in soil:{0:.2f}\".format(data['N'].mean()))\n",
    "print(\"average ratio in phosphorus in soil:{0:.2f}\".format(data['P'].mean()))\n",
    "print(\"average ratio of potassium in soil:{0:.2f}\".format(data['K'].mean()))\n",
    "print(\"average tempreture in celsius:{0:.2f}\".format(data['temperature'].mean()))\n",
    "print(\"average relative humidity in %:{0:.2f}\".format(data['humidity'].mean()))\n",
    "print(\"average ph value of the soil:{0:.2f}\".format(data['ph'].mean()))\n",
    "print(\"average rainfall in mm:{0:.2f}\".format(data['rainfall'].mean()))"
   ]
  },
  {
   "cell_type": "code",
   "execution_count": 8,
   "metadata": {},
   "outputs": [
    {
     "data": {
      "application/vnd.jupyter.widget-view+json": {
       "model_id": "8dbbaf70326845b5b4a8b69fe6d0a8d1",
       "version_major": 2,
       "version_minor": 0
      },
      "text/plain": [
       "interactive(children=(Dropdown(description='crops', options=('kidneybeans', 'banana', 'blackgram', 'coffee', '…"
      ]
     },
     "metadata": {},
     "output_type": "display_data"
    }
   ],
   "source": [
    "#lets check the summary statistics for each of the crop\n",
    "@interact\n",
    "def summary(crops=list(data['label'].value_counts().index)):\n",
    "    x=data[data['label']==crops]\n",
    "    print('-----------------------------------------')\n",
    "    print('statistics for nitrogen:')\n",
    "    print('minimum nitrogen required:',x['N'].min())\n",
    "    print('average nitrogen required:',x['N'].mean())\n",
    "    print('maximum nitrogen required:',x['N'].max())\n",
    "    \n",
    "    print('-----------------------------------------')\n",
    "    print('statistics for phosphorus:')\n",
    "    print('minimum phosphorus required:',x['P'].min())\n",
    "    print('average phosphorus required:',x['P'].mean())\n",
    "    print('maximum phosphorus required:',x['P'].max())\n",
    "    \n",
    "    print('-----------------------------------------')\n",
    "    print('statistics for potassium:')\n",
    "    print('minimum potassium required:',x['K'].min())\n",
    "    print('average potassium required:',x['K'].mean())\n",
    "    print('maximum potassium required:',x['K'].max())\n",
    "    \n",
    "    print('-----------------------------------------')\n",
    "    print('statistics for temperature:')\n",
    "    print('minimum temperature required:{0:.2f}'.format(x['temperature'].min()))\n",
    "    print('average temperature required:{0:.2f}'.format(x['temperature'].mean()))\n",
    "    print('maximum temperature required:{0:.2f}'.format(x['temperature'].max()))\n",
    "    \n",
    "    print('-----------------------------------------')\n",
    "    print('statistics for humidity:')\n",
    "    print('minimum humidity required:{0:.2f}'.format(x['humidity'].min()))\n",
    "    print('average humiditym required:{0:.2f}'.format(x['humidity'].mean()))\n",
    "    print('maximum humidity required:{0:.2f}'.format(x['humidity'].max()))\n",
    "    \n",
    "    print('-----------------------------------------')\n",
    "    print('statistics for ph:')\n",
    "    print('minimum ph required:{0:.2f}'.format(x['ph'].min()))\n",
    "    print('average ph required:{0:.2f}'.format(x['ph'].mean()))\n",
    "    print('maximum ph required:{0:.2f}'.format(x['ph'].max()))\n",
    "    \n",
    "    print('-----------------------------------------')\n",
    "    print('statistics for rainfall:')\n",
    "    print('minimum rainfall required:{0:.2f}'.format(x['rainfall'].min()))\n",
    "    print('average rainfall required:{0:.2f}'.format(x['rainfall'].mean()))\n",
    "    print('maximum rainfall required:{0:.2f}'.format(x['rainfall'].max()))"
   ]
  },
  {
   "cell_type": "code",
   "execution_count": 9,
   "metadata": {},
   "outputs": [
    {
     "data": {
      "application/vnd.jupyter.widget-view+json": {
       "model_id": "f08b569ea9574f83bca20e54b21646fe",
       "version_major": 2,
       "version_minor": 0
      },
      "text/plain": [
       "interactive(children=(Dropdown(description='conditions', options=('N', 'P', 'K', 'temperature', 'humidity', 'p…"
      ]
     },
     "metadata": {},
     "output_type": "display_data"
    }
   ],
   "source": [
    "# compare the average requirement for each crops with average conditions\n",
    "@interact\n",
    "def compare(conditions=['N','P','K','temperature','humidity','ph','rainfall']):\n",
    "    print('average values for',conditions,'is {0:.2f}'.format(data[conditions].min()))\n",
    "    print('------------------------------------------')\n",
    "    print('maize:   {0:.2f}'.format(data[(data['label']=='maize')][conditions].mean()))\n",
    "    print('kidneybeans:  {0:.2f}'.format(data[(data['label']=='kidneybeans')][conditions].mean()))\n",
    "    print('rice:  {0:.2f}'.format(data[(data['label']=='rice')][conditions].mean()))\n",
    "    print('muskmelon:  {0:.2f}'.format(data[(data['label']=='muskmelon')][conditions].mean()))\n",
    "    print('banana:  {0:.2f}'.format(data[(data['label']=='banana')][conditions].mean()))\n",
    "    print('pomogranate:  {0:.2f}'.format(data[(data['label']=='pomogranate')][conditions].mean()))\n",
    "    print('chickpea:  {0:.2f}'.format(data[(data['label']=='chickpea')][conditions].mean()))\n",
    "    print('coconut:  {0:.2f}'.format(data[(data['label']=='coconut')][conditions].mean()))\n",
    "    print('pigeonpeas:  {0:.2f}'.format(data[(data['label']=='pigeonpeas')][conditions].mean()))\n",
    "    print('mungbean:  {0:.2f}'.format(data[(data['label']=='mungbean')][conditions].mean()))\n",
    "    print('blackgram:  {0:.2f}'.format(data[(data['label']=='blackgram')][conditions].mean()))\n",
    "    print('mothbeans:  {0:.2f}'.format(data[(data['label']=='mothbeans')][conditions].mean()))\n",
    "    print('orange:  {0:.2f}'.format(data[(data['label']=='orange')][conditions].mean()))\n",
    "    print('watermelon:  {0:.2f}'.format(data[(data['label']=='watermelon')][conditions].mean()))\n",
    "    print('mango:  {0:.2f}'.format(data[(data['label']=='mango')][conditions].mean()))\n",
    "    print('lentil:  {0:.2f}'.format(data[(data['label']=='lentil')][conditions].mean()))\n",
    "    print('cotton:  {0:.2f}'.format(data[(data['label']=='cotton')][conditions].mean()))\n",
    "    print('coffee:  {0:.2f}'.format(data[(data['label']=='coffee')][conditions].mean()))\n",
    "    print('apple:  {0:.2f}'.format(data[(data['label']=='apple')][conditions].mean()))\n",
    "    print('grapes:  {0:.2f}'.format(data[(data['label']=='grapes')][conditions].mean()))\n",
    "    print('papaya:  {0:.2f}'.format(data[(data['label']=='papaya')][conditions].mean()))\n",
    "    print('jute:  {0:.2f}'.format(data[(data['label']=='jute')][conditions].mean()))\n",
    "    "
   ]
  },
  {
   "cell_type": "code",
   "execution_count": 10,
   "metadata": {},
   "outputs": [
    {
     "data": {
      "application/vnd.jupyter.widget-view+json": {
       "model_id": "0b05ad3d377f4ddcb60b5f2be697bd97",
       "version_major": 2,
       "version_minor": 0
      },
      "text/plain": [
       "interactive(children=(Dropdown(description='conditions', options=('N', 'P', 'K', 'temperature', 'humidity', 'p…"
      ]
     },
     "metadata": {},
     "output_type": "display_data"
    }
   ],
   "source": [
    "#lets make this function more intutive\n",
    "@interact\n",
    "def compare(conditions=['N','P','K','temperature','humidity','ph','rainfall']):\n",
    "    print('crops which require greater than average',conditions,'\\n')\n",
    "    print(data[data[conditions]> data[conditions].mean()]['label'].unique())\n",
    "    print('---------------------------------------------')\n",
    "    print('crops which require less than average',conditions,'\\n')\n",
    "    print(data[data[conditions]<= data[conditions].mean()]['label'].unique())"
   ]
  },
  {
   "cell_type": "code",
   "execution_count": 36,
   "metadata": {},
   "outputs": [
    {
     "data": {
      "text/plain": [
       "<Figure size 720x720 with 0 Axes>"
      ]
     },
     "metadata": {},
     "output_type": "display_data"
    },
    {
     "data": {
      "image/png": "[encoded data removed]",
      "text/plain": [
       "<Figure size 360x360 with 1 Axes>"
      ]
     },
     "metadata": {
      "needs_background": "light"
     },
     "output_type": "display_data"
    },
    {
     "data": {
      "image/png": "[encoded data removed]",
      "text/plain": [
       "<Figure size 360x360 with 1 Axes>"
      ]
     },
     "metadata": {
      "needs_background": "light"
     },
     "output_type": "display_data"
    },
    {
     "data": {
      "image/png": "[encoded data removed]",
      "text/plain": [
       "<Figure size 360x360 with 1 Axes>"
      ]
     },
     "metadata": {
      "needs_background": "light"
     },
     "output_type": "display_data"
    },
    {
     "data": {
      "image/png": "[encoded data removed]",
      "text/plain": [
       "<Figure size 360x360 with 1 Axes>"
      ]
     },
     "metadata": {
      "needs_background": "light"
     },
     "output_type": "display_data"
    },
    {
     "data": {
      "image/png": "[encoded data removed]",
      "text/plain": [
       "<Figure size 360x360 with 1 Axes>"
      ]
     },
     "metadata": {
      "needs_background": "light"
     },
     "output_type": "display_data"
    },
    {
     "data": {
      "image/png": "[encoded data removed]",
      "text/plain": [
       "<Figure size 360x360 with 1 Axes>"
      ]
     },
     "metadata": {
      "needs_background": "light"
     },
     "output_type": "display_data"
    },
    {
     "data": {
      "image/png": "[encoded data removed]",
      "text/plain": [
       "<Figure size 360x360 with 1 Axes>"
      ]
     },
     "metadata": {
      "needs_background": "light"
     },
     "output_type": "display_data"
    }
   ],
   "source": [
    "plt.suptitle('distribution for agricultural conditions',fontsize=20)\n",
    "\n",
    "sns.displot(data['N'],color='red')\n",
    "plt.xlabel('ratio of Nitrohen',fontsize=12)\n",
    "plt.ylabel('Density',fontsize=12)\n",
    "plt.grid()\n",
    "plt.show()\n",
    "\n",
    "\n",
    "sns.displot(data['P'],color='orange')\n",
    "plt.xlabel('ratio of phosphorus',fontsize=12)\n",
    "plt.ylabel('Density',fontsize=12)\n",
    "plt.grid()\n",
    "plt.show()\n",
    "\n",
    "sns.displot(data['K'],color='darkblue')\n",
    "plt.xlabel('ratio of potassium',fontsize=12)\n",
    "plt.ylabel('Density',fontsize=12)\n",
    "plt.grid()\n",
    "plt.show()\n",
    "\n",
    "sns.displot(data['temperature'],color='black')\n",
    "plt.xlabel('Temperature',fontsize=12)\n",
    "plt.ylabel('Density',fontsize=12)\n",
    "plt.grid()\n",
    "plt.show()\n",
    "\n",
    "sns.displot(data['rainfall'],color='grey')\n",
    "plt.xlabel('Rainfall',fontsize=12)\n",
    "plt.ylabel('Density',fontsize=12)\n",
    "plt.grid()\n",
    "plt.show()\n",
    "\n",
    "\n",
    "sns.displot(data['humidity'],color='lightgreen')\n",
    "plt.xlabel('Humidity',fontsize=12)\n",
    "plt.ylabel('Density',fontsize=12)\n",
    "plt.grid()\n",
    "plt.show()\n",
    "\n",
    "sns.displot(data['ph'],color='darkgreen')\n",
    "plt.xlabel('ph level',fontsize=12)\n",
    "plt.ylabel('Density',fontsize=12)\n",
    "plt.grid()\n",
    "plt.show()"
   ]
  },
  {
   "cell_type": "code",
   "execution_count": 12,
   "metadata": {},
   "outputs": [
    {
     "name": "stdout",
     "output_type": "stream",
     "text": [
      "Some intresting patterns\n",
      "-----------------------------------\n",
      "crops which contain very high ratio of nitrogen content in soil ['cotton']\n",
      "crops which contain very high ratio of phoosphorus content in soil ['grapes' 'apple']\n",
      "crops which contain very high ratio of potassium content in soil ['grapes' 'apple']\n",
      "crops which contain very high rainfall ['rice' 'papaya' 'coconut']\n",
      "crops which contain very low temperature ['grapes']\n",
      "crops which contain very high temperature ['grapes' 'papaya']\n",
      "crops which contain very low humiditye ['chickpea' 'kidneybeans']\n",
      "crops which contain very low ph ['mothbeans']\n",
      "crops which contain very low ph ['mothbeans']\n"
     ]
    }
   ],
   "source": [
    "#lets find out some intresting crops\n",
    "print('Some intresting patterns')\n",
    "print('-----------------------------------')\n",
    "print('crops which contain very high ratio of nitrogen content in soil',data[data['N']>120]['label'].unique())\n",
    "print('crops which contain very high ratio of phoosphorus content in soil',data[data['P']>100]['label'].unique())\n",
    "print('crops which contain very high ratio of potassium content in soil',data[data['K']>200]['label'].unique())\n",
    "print('crops which contain very high rainfall',data[data['rainfall']>200]['label'].unique())\n",
    "print('crops which contain very low temperature',data[data['temperature']<10]['label'].unique())\n",
    "print('crops which contain very high temperature',data[data['temperature']>40]['label'].unique())\n",
    "print('crops which contain very low humiditye',data[data['humidity']<20]['label'].unique())\n",
    "print('crops which contain very low ph',data[data['ph']<4]['label'].unique())\n",
    "print('crops which contain very low ph',data[data['ph']>9]['label'].unique())\n",
    "\n"
   ]
  },
  {
   "cell_type": "code",
   "execution_count": 13,
   "metadata": {},
   "outputs": [
    {
     "name": "stdout",
     "output_type": "stream",
     "text": [
      "Summer Crops\n",
      "['pigeonpeas' 'mothbeans' 'blackgram' 'mango' 'grapes' 'orange' 'papaya']\n",
      "Wintetr crops\n",
      "['maize' 'pigeonpeas' 'lentil' 'pomegranate' 'grapes' 'orange']\n",
      "Rainy crops\n",
      "['rice' 'papaya' 'coconut']\n"
     ]
    }
   ],
   "source": [
    "#which crops grown in summer,winter and rainy season.\n",
    "print(\"Summer Crops\")\n",
    "print(data[(data['temperature']>30)&(data['humidity']>50)]['label'].unique())\n",
    "print(\"Wintetr crops\")\n",
    "print(data[(data['temperature']<20)&(data['humidity']>30)]['label'].unique())\n",
    "print(\"Rainy crops\")\n",
    "print(data[(data['rainfall']>200)&(data['humidity']>30)]['label'].unique())"
   ]
  },
  {
   "cell_type": "code",
   "execution_count": 14,
   "metadata": {},
   "outputs": [
    {
     "name": "stdout",
     "output_type": "stream",
     "text": [
      "(2200, 7)\n"
     ]
    }
   ],
   "source": [
    "from sklearn.cluster import KMeans\n",
    "#removing the labels columns\n",
    "x=data.drop(['label'],axis=1)\n",
    "#selecting all the values of the data\n",
    "x=x.values\n",
    "#checking the shape\n",
    "print(x.shape)"
   ]
  },
  {
   "cell_type": "code",
   "execution_count": 15,
   "metadata": {},
   "outputs": [
    {
     "data": {
      "image/png": "[encoded data removed]",
      "text/plain": [
       "<Figure size 720x288 with 1 Axes>"
      ]
     },
     "metadata": {
      "needs_background": "light"
     },
     "output_type": "display_data"
    }
   ],
   "source": [
    "#lets determine the opptimum number of clusters within the dataset\n",
    "plt.rcParams['figure.figsize']=(10,4)\n",
    "wcss=[]\n",
    "for i in range(1,11):\n",
    "    km=KMeans(n_clusters=i,init='k-means++',max_iter=300,n_init=10,random_state=0)\n",
    "    km.fit(x)\n",
    "    wcss.append(km.inertia_)\n",
    "    \n",
    "#lets plot the results\n",
    "plt.plot(range(1,11),wcss)\n",
    "plt.title('elbow method',fontsize=20)\n",
    "plt.xlabel('number of clusters')\n",
    "plt.ylabel('wcss')\n",
    "plt.show()"
   ]
  },
  {
   "cell_type": "code",
   "execution_count": 16,
   "metadata": {},
   "outputs": [
    {
     "name": "stdout",
     "output_type": "stream",
     "text": [
      "Results after applying KMeans clustering analysis \n",
      "\n",
      "crops in first cluster \n",
      " ['rice' 'pigeonpeas' 'papaya' 'coconut' 'jute' 'coffee']\n",
      "------------------------------------------------\n",
      "crops in second cluster \n",
      " ['maize' 'chickpea' 'kidneybeans' 'pigeonpeas' 'mothbeans' 'mungbean'\n",
      " 'blackgram' 'lentil' 'pomegranate' 'mango' 'orange' 'papaya' 'coconut']\n",
      "------------------------------------------------\n",
      "crops in third cluster \n",
      " ['grapes' 'apple']\n",
      "------------------------------------------------\n",
      "crops in fourth cluster \n",
      " ['maize' 'banana' 'watermelon' 'muskmelon' 'papaya' 'cotton' 'coffee']\n"
     ]
    }
   ],
   "source": [
    "#implementing the KMeans algorithm to perform clustering analysis\n",
    "km=KMeans(n_clusters=4,init='k-means++',max_iter=300,n_init=10,random_state=0)\n",
    "y_means=km.fit_predict(x)\n",
    "#lets findout the results\n",
    "a=data['label']\n",
    "y_means=pd.DataFrame(y_means)\n",
    "z=pd.concat([y_means,a],axis=1)\n",
    "z=z.rename(columns={0:'clusters'})\n",
    "\n",
    "#lets check the clusters of each crop\n",
    "print(\"Results after applying KMeans clustering analysis \\n\")\n",
    "print('crops in first cluster \\n',z[z['clusters']==0]['label'].unique())\n",
    "print('------------------------------------------------')\n",
    "print('crops in second cluster \\n',z[z['clusters']==1]['label'].unique())\n",
    "print('------------------------------------------------')\n",
    "print('crops in third cluster \\n',z[z['clusters']==2]['label'].unique())\n",
    "print('------------------------------------------------')\n",
    "print('crops in fourth cluster \\n',z[z['clusters']==3]['label'].unique())"
   ]
  },
  {
   "cell_type": "code",
   "execution_count": 17,
   "metadata": {},
   "outputs": [
    {
     "name": "stdout",
     "output_type": "stream",
     "text": [
      "shape of x: (2200, 7)\n",
      "shape of y: (2200,)\n"
     ]
    }
   ],
   "source": [
    "#spliting the dataset for predictive modeling\n",
    "y=data['label']\n",
    "x=data.drop(['label'],axis=1)\n",
    "print('shape of x:',x.shape)\n",
    "print('shape of y:',y.shape)"
   ]
  },
  {
   "cell_type": "code",
   "execution_count": 18,
   "metadata": {},
   "outputs": [
    {
     "name": "stdout",
     "output_type": "stream",
     "text": [
      "the shape of x_train (1760, 7)\n",
      "the shape of x_test (440, 7)\n",
      "the shape of y_train (1760,)\n",
      "the shape of y_test (440,)\n"
     ]
    }
   ],
   "source": [
    "#creating training and testing sets for validations of results\n",
    "from sklearn.model_selection import train_test_split\n",
    "x_train ,x_test, y_train, y_test=train_test_split(x,y,test_size=0.2,random_state=0)\n",
    "print('the shape of x_train',x_train.shape)\n",
    "print('the shape of x_test',x_test.shape)\n",
    "print('the shape of y_train',y_train.shape)\n",
    "print('the shape of y_test',y_test.shape)"
   ]
  },
  {
   "cell_type": "code",
   "execution_count": 19,
   "metadata": {},
   "outputs": [
    {
     "name": "stderr",
     "output_type": "stream",
     "text": [
      "C:\\Users\\Kanu\\anaconda3\\lib\\site-packages\\sklearn\\linear_model\\_logistic.py:762: ConvergenceWarning: lbfgs failed to converge (status=1):\n",
      "STOP: TOTAL NO. of ITERATIONS REACHED LIMIT.\n",
      "\n",
      "Increase the number of iterations (max_iter) or scale the data as shown in:\n",
      "    https://scikit-learn.org/stable/modules/preprocessing.html\n",
      "Please also refer to the documentation for alternative solver options:\n",
      "    https://scikit-learn.org/stable/modules/linear_model.html#logistic-regression\n",
      "  n_iter_i = _check_optimize_result(\n"
     ]
    }
   ],
   "source": [
    "#lets create the predictive model\n",
    "from sklearn.linear_model import LogisticRegression\n",
    "model=LogisticRegression()\n",
    "model.fit(x_train,y_train)\n",
    "y_pred=model.predict(x_test)"
   ]
  },
  {
   "cell_type": "code",
   "execution_count": 20,
   "metadata": {},
   "outputs": [
    {
     "data": {
      "image/png": "[encoded data removed]",
      "text/plain": [
       "<Figure size 720x720 with 2 Axes>"
      ]
     },
     "metadata": {
      "needs_background": "light"
     },
     "output_type": "display_data"
    }
   ],
   "source": [
    "#evaluate the model performance\n",
    "from sklearn.metrics import confusion_matrix\n",
    "\n",
    "#printing the confusion metrix first\n",
    "plt.rcParams['figure.figsize']=(10,10)\n",
    "cm=confusion_matrix(y_test,y_pred)\n",
    "sns.heatmap(cm,annot=True,cmap='Wistia')\n",
    "plt.title('confusion matrix for Logistic Regression',fontsize=15)\n",
    "plt.show()\n"
   ]
  },
  {
   "cell_type": "code",
   "execution_count": null,
   "metadata": {},
   "outputs": [],
   "source": []
  },
  {
   "cell_type": "code",
   "execution_count": 21,
   "metadata": {},
   "outputs": [
    {
     "data": {
      "text/html": [
       "<div>\n",
       "<style scoped>\n",
       "    .dataframe tbody tr th:only-of-type {\n",
       "        vertical-align: middle;\n",
       "    }\n",
       "\n",
       "    .dataframe tbody tr th {\n",
       "        vertical-align: top;\n",
       "    }\n",
       "\n",
       "    .dataframe thead th {\n",
       "        text-align: right;\n",
       "    }\n",
       "</style>\n",
       "<table border=\"1\" class=\"dataframe\">\n",
       "  <thead>\n",
       "    <tr style=\"text-align: right;\">\n",
       "      <th></th>\n",
       "      <th>N</th>\n",
       "      <th>P</th>\n",
       "      <th>K</th>\n",
       "      <th>temperature</th>\n",
       "      <th>humidity</th>\n",
       "      <th>ph</th>\n",
       "      <th>rainfall</th>\n",
       "      <th>label</th>\n",
       "    </tr>\n",
       "  </thead>\n",
       "  <tbody>\n",
       "    <tr>\n",
       "      <th>0</th>\n",
       "      <td>90</td>\n",
       "      <td>42</td>\n",
       "      <td>43</td>\n",
       "      <td>20.879744</td>\n",
       "      <td>82.002744</td>\n",
       "      <td>6.502985</td>\n",
       "      <td>202.935536</td>\n",
       "      <td>rice</td>\n",
       "    </tr>\n",
       "    <tr>\n",
       "      <th>1</th>\n",
       "      <td>85</td>\n",
       "      <td>58</td>\n",
       "      <td>41</td>\n",
       "      <td>21.770462</td>\n",
       "      <td>80.319644</td>\n",
       "      <td>7.038096</td>\n",
       "      <td>226.655537</td>\n",
       "      <td>rice</td>\n",
       "    </tr>\n",
       "    <tr>\n",
       "      <th>2</th>\n",
       "      <td>60</td>\n",
       "      <td>55</td>\n",
       "      <td>44</td>\n",
       "      <td>23.004459</td>\n",
       "      <td>82.320763</td>\n",
       "      <td>7.840207</td>\n",
       "      <td>263.964248</td>\n",
       "      <td>rice</td>\n",
       "    </tr>\n",
       "    <tr>\n",
       "      <th>3</th>\n",
       "      <td>74</td>\n",
       "      <td>35</td>\n",
       "      <td>40</td>\n",
       "      <td>26.491096</td>\n",
       "      <td>80.158363</td>\n",
       "      <td>6.980401</td>\n",
       "      <td>242.864034</td>\n",
       "      <td>rice</td>\n",
       "    </tr>\n",
       "    <tr>\n",
       "      <th>4</th>\n",
       "      <td>78</td>\n",
       "      <td>42</td>\n",
       "      <td>42</td>\n",
       "      <td>20.130175</td>\n",
       "      <td>81.604873</td>\n",
       "      <td>7.628473</td>\n",
       "      <td>262.717340</td>\n",
       "      <td>rice</td>\n",
       "    </tr>\n",
       "  </tbody>\n",
       "</table>\n",
       "</div>"
      ],
      "text/plain": [
       "    N   P   K  temperature   humidity        ph    rainfall label\n",
       "0  90  42  43    20.879744  82.002744  6.502985  202.935536  rice\n",
       "1  85  58  41    21.770462  80.319644  7.038096  226.655537  rice\n",
       "2  60  55  44    23.004459  82.320763  7.840207  263.964248  rice\n",
       "3  74  35  40    26.491096  80.158363  6.980401  242.864034  rice\n",
       "4  78  42  42    20.130175  81.604873  7.628473  262.717340  rice"
      ]
     },
     "execution_count": 21,
     "metadata": {},
     "output_type": "execute_result"
    }
   ],
   "source": [
    "#head of data\n",
    "data.head()"
   ]
  },
  {
   "cell_type": "code",
   "execution_count": 22,
   "metadata": {},
   "outputs": [
    {
     "name": "stdout",
     "output_type": "stream",
     "text": [
      "The suggested crop for given climatic condition is  ['rice']\n"
     ]
    }
   ],
   "source": [
    "prediction=model.predict((np.array([[90,40,40,20,80,7,200]])))\n",
    "print(\"The suggested crop for given climatic condition is \",prediction)"
   ]
  },
  {
   "cell_type": "code",
   "execution_count": null,
   "metadata": {},
   "outputs": [],
   "source": []
  },
  {
   "cell_type": "code",
   "execution_count": null,
   "metadata": {},
   "outputs": [],
   "source": []
  },
  {
   "cell_type": "code",
   "execution_count": null,
   "metadata": {},
   "outputs": [],
   "source": []
  },
  {
   "cell_type": "code",
   "execution_count": null,
   "metadata": {},
   "outputs": [],
   "source": []
  },
  {
   "cell_type": "code",
   "execution_count": null,
   "metadata": {},
   "outputs": [],
   "source": []
  },
  {
   "cell_type": "code",
   "execution_count": null,
   "metadata": {},
   "outputs": [],
   "source": []
  }
 ],
 "metadata": {
  "kernelspec": {
   "display_name": "Python 3",
   "language": "python",
   "name": "python3"
  },
  "language_info": {
   "codemirror_mode": {
    "name": "ipython",
    "version": 3
   },
   "file_extension": ".py",
   "mimetype": "text/x-python",
   "name": "python",
   "nbconvert_exporter": "python",
   "pygments_lexer": "ipython3",
   "version": "3.8.5"
  }
 },
 "nbformat": 4,
 "nbformat_minor": 4
}
